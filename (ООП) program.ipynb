{
 "cells": [
  {
   "cell_type": "code",
   "execution_count": 1,
   "id": "076e8e12",
   "metadata": {},
   "outputs": [],
   "source": [
    "class phone():\n",
    "    def __init__(self, name, model, battery_capacity):\n",
    "        self.name = name\n",
    "        self.model = model\n",
    "        self.battery_capacity = battery_capacity\n",
    "        self.charge_level = 0\n",
    "    \n",
    "    def charge_battery(self):\n",
    "        self.charge_level = self.battery_capacity\n",
    "        print('battery of %s is full now' %self.name)\n",
    "        \n",
    "    def call(self):\n",
    "        if(self.charge_level>0):\n",
    "            print('Zz Zz Zz, the %s is calling' %self.name)\n",
    "            self.charge_level -=1\n",
    "        else:\n",
    "            print('%s battery is discharge, please charge your phone' %self.name)\n",
    "            \n",
    "            \n",
    "            \n",
    "            \n",
    "            \n",
    "        \n",
    "            \n",
    "   \n",
    "            \n",
    "        \n",
    "        \n",
    "            \n",
    "    \n",
    "    \n",
    "\n"
   ]
  },
  {
   "cell_type": "code",
   "execution_count": 25,
   "id": "13dfe373",
   "metadata": {},
   "outputs": [],
   "source": [
    "phone1 = phone('iPhone', 'Xr', 100)"
   ]
  },
  {
   "cell_type": "code",
   "execution_count": 26,
   "id": "f20a2af0",
   "metadata": {},
   "outputs": [
    {
     "name": "stdout",
     "output_type": "stream",
     "text": [
      "iPhone battery is discharge, please charge your phone\n"
     ]
    }
   ],
   "source": [
    "phone1.call()"
   ]
  },
  {
   "cell_type": "code",
   "execution_count": 27,
   "id": "6d48acca",
   "metadata": {},
   "outputs": [
    {
     "name": "stdout",
     "output_type": "stream",
     "text": [
      "battery of iPhone is full now\n"
     ]
    }
   ],
   "source": [
    "phone1.charge_battery()"
   ]
  },
  {
   "cell_type": "code",
   "execution_count": 28,
   "id": "941baf78",
   "metadata": {},
   "outputs": [
    {
     "name": "stdout",
     "output_type": "stream",
     "text": [
      "Zz Zz Zz, the iPhone is calling\n"
     ]
    }
   ],
   "source": [
    "phone1.call()\n"
   ]
  },
  {
   "cell_type": "code",
   "execution_count": 29,
   "id": "fb0cee4d",
   "metadata": {},
   "outputs": [
    {
     "data": {
      "text/plain": [
       "99"
      ]
     },
     "execution_count": 29,
     "metadata": {},
     "output_type": "execute_result"
    }
   ],
   "source": [
    "phone1.charge_level"
   ]
  },
  {
   "cell_type": "code",
   "execution_count": 30,
   "id": "306abe40",
   "metadata": {},
   "outputs": [
    {
     "name": "stdout",
     "output_type": "stream",
     "text": [
      "Zz Zz Zz, the iPhone is calling\n"
     ]
    }
   ],
   "source": [
    "phone1.call()\n"
   ]
  },
  {
   "cell_type": "code",
   "execution_count": 31,
   "id": "de07d5b5",
   "metadata": {},
   "outputs": [
    {
     "data": {
      "text/plain": [
       "98"
      ]
     },
     "execution_count": 31,
     "metadata": {},
     "output_type": "execute_result"
    }
   ],
   "source": [
    "\n",
    "phone1.charge_level\n"
   ]
  },
  {
   "cell_type": "code",
   "execution_count": 32,
   "id": "a333d940",
   "metadata": {},
   "outputs": [
    {
     "name": "stdout",
     "output_type": "stream",
     "text": [
      "Enter a phone number\n"
     ]
    }
   ],
   "source": [
    "phone1.number()"
   ]
  },
  {
   "cell_type": "code",
   "execution_count": 33,
   "id": "d710eb13",
   "metadata": {},
   "outputs": [
    {
     "name": "stdout",
     "output_type": "stream",
     "text": [
      "battery of Samsung is full now\n"
     ]
    }
   ],
   "source": [
    "phone1.charge_battery()"
   ]
  },
  {
   "cell_type": "code",
   "execution_count": 35,
   "id": "b09b286a",
   "metadata": {},
   "outputs": [
    {
     "data": {
      "text/plain": [
       "100"
      ]
     },
     "execution_count": 35,
     "metadata": {},
     "output_type": "execute_result"
    }
   ],
   "source": [
    "phone1.charge_level"
   ]
  },
  {
   "cell_type": "code",
   "execution_count": 36,
   "id": "89b144f2",
   "metadata": {},
   "outputs": [
    {
     "name": "stdout",
     "output_type": "stream",
     "text": [
      "Zz Zz Zz, the Samsung is calling\n"
     ]
    }
   ],
   "source": [
    "phone1.call()"
   ]
  },
  {
   "cell_type": "code",
   "execution_count": 42,
   "id": "f0c689a3",
   "metadata": {},
   "outputs": [
    {
     "ename": "TypeError",
     "evalue": "__init__() missing 1 required positional argument: 'faceID'",
     "output_type": "error",
     "traceback": [
      "\u001b[0;31m---------------------------------------------------------------------------\u001b[0m",
      "\u001b[0;31mTypeError\u001b[0m                                 Traceback (most recent call last)",
      "\u001b[0;32m<ipython-input-42-a4b73e737b7e>\u001b[0m in \u001b[0;36m<module>\u001b[0;34m\u001b[0m\n\u001b[0;32m----> 1\u001b[0;31m \u001b[0mphone1\u001b[0m \u001b[0;34m=\u001b[0m \u001b[0mphone\u001b[0m\u001b[0;34m(\u001b[0m\u001b[0;34m'Samsung'\u001b[0m\u001b[0;34m,\u001b[0m \u001b[0;34m'a10'\u001b[0m\u001b[0;34m,\u001b[0m \u001b[0;36m100\u001b[0m\u001b[0;34m)\u001b[0m\u001b[0;34m\u001b[0m\u001b[0;34m\u001b[0m\u001b[0m\n\u001b[0m",
      "\u001b[0;31mTypeError\u001b[0m: __init__() missing 1 required positional argument: 'faceID'"
     ]
    }
   ],
   "source": [
    "phone1 = phone('Samsung', 'a10', 100)\n"
   ]
  },
  {
   "cell_type": "code",
   "execution_count": null,
   "id": "95b4f923",
   "metadata": {},
   "outputs": [],
   "source": []
  }
 ],
 "metadata": {
  "kernelspec": {
   "display_name": "Python 3",
   "language": "python",
   "name": "python3"
  },
  "language_info": {
   "codemirror_mode": {
    "name": "ipython",
    "version": 3
   },
   "file_extension": ".py",
   "mimetype": "text/x-python",
   "name": "python",
   "nbconvert_exporter": "python",
   "pygments_lexer": "ipython3",
   "version": "3.8.8"
  }
 },
 "nbformat": 4,
 "nbformat_minor": 5
}
