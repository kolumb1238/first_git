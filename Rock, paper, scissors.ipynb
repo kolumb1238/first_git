{
 "cells": [
  {
   "cell_type": "code",
   "execution_count": 22,
   "id": "c6756340",
   "metadata": {},
   "outputs": [
    {
     "name": "stdout",
     "output_type": "stream",
     "text": [
      "Введите ваш выбор - камень\n",
      "\n",
      "Вы выбрали камень, компьютер выбрал камень.\n",
      "\n",
      "Оба пользователя выбрали камень. Ничья!!\n"
     ]
    }
   ],
   "source": [
    "import random\n",
    "user_choice = input('Введите ваш выбор - ')\n",
    "conditions = [\"камень\", \"бумага\", \"ножницы\"]\n",
    "computer_choice = random.choice(conditions)\n",
    "print(f\"\\nВы выбрали {user_choice}, компьютер выбрал {computer_choice}.\\n\")\n",
    "if user_choice == computer_choice:\n",
    "    print(f\"Оба пользователя выбрали {user_choice}. Ничья!!\")\n",
    "elif user_choice == \"камень\":\n",
    "    if computer_choice == \"ножницы\":\n",
    "        print(\"Камень бьет ножницы! Вы победили!\")\n",
    "    else:\n",
    "        print(\"Бумага оборачивает камень! Вы проиграли.\")\n",
    "elif user_choice == \"бумага\":\n",
    "    if computer_choice == \"камень\":\n",
    "        print(\"Бумага оборачивает камень! Вы победили!\")\n",
    "    else:\n",
    "        print(\"Ножницы режут бумагу! Вы проиграли.\")\n",
    "elif user_choice == \"ножницы\":\n",
    "    if computer_achoice == \"бумага\":\n",
    "        print(\"Ножницы режут бумагу! Вы победили!\")\n",
    "    else:\n",
    "        print(\"Камень бьет ножницы! Вы проиграли.\")\n"
   ]
  },
  {
   "cell_type": "code",
   "execution_count": null,
   "id": "ada26ce8",
   "metadata": {},
   "outputs": [],
   "source": []
  }
 ],
 "metadata": {
  "kernelspec": {
   "display_name": "Python 3",
   "language": "python",
   "name": "python3"
  },
  "language_info": {
   "codemirror_mode": {
    "name": "ipython",
    "version": 3
   },
   "file_extension": ".py",
   "mimetype": "text/x-python",
   "name": "python",
   "nbconvert_exporter": "python",
   "pygments_lexer": "ipython3",
   "version": "3.8.8"
  }
 },
 "nbformat": 4,
 "nbformat_minor": 5
}
